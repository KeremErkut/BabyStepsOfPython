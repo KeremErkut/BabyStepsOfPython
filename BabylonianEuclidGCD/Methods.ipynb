{
 "cells": [
  {
   "cell_type": "markdown",
   "metadata": {},
   "source": [
    "# Babylonian & GCD Methods"
   ]
  },
  {
   "cell_type": "markdown",
   "metadata": {},
   "source": [
    "----"
   ]
  },
  {
   "cell_type": "markdown",
   "metadata": {},
   "source": [
    "## Babylonian(Heron's) Method\n",
    "\n",
    "* Dating back to ancient **Babylonian** times and also known as **Heron's** method. \n",
    "* The main logic is to improve the start point to find true square root value."
   ]
  },
  {
   "cell_type": "code",
   "execution_count": 11,
   "metadata": {},
   "outputs": [
    {
     "name": "stdout",
     "output_type": "stream",
     "text": [
      "Square root of 36 is 6.0\n"
     ]
    }
   ],
   "source": [
    "S = 36 # The number which to find the square root of\n",
    "\n",
    "x = S / 2 # Initial guess\n",
    "\n",
    "while True:\n",
    "    x_new = (x + S / x) / 2 # new guess\n",
    "    if abs(x - x_new) < 0.0000001: # check if the difference is small enough\n",
    "        break\n",
    "    x = x_new\n",
    "\n",
    "print(f\"Square root of {S} is {x_new}\")\n"
   ]
  },
  {
   "cell_type": "markdown",
   "metadata": {},
   "source": [
    "****"
   ]
  },
  {
   "cell_type": "markdown",
   "metadata": {},
   "source": [
    "## GCD (Euclid's Formula)\n",
    "* GCD(Great Common Divisior) is powerful and ancient way to find the greates common divisor of two numbers.\n",
    "* It was defined by **Euclid** around 300 BC and today we are using in **mathematics** and **computer science** \n",
    "\n",
    "### Steps :\n",
    "1. Divide the larger number by smaller number and find the remainder.\n",
    "2. Take the small number as new big number and take the remainder as the new small number\n",
    "3. Repeat these first two step until remainder will be 0.\n",
    "4. The last non-zero remainder will be GCD.   \n"
   ]
  },
  {
   "cell_type": "code",
   "execution_count": 12,
   "metadata": {},
   "outputs": [
    {
     "name": "stdout",
     "output_type": "stream",
     "text": [
      "3\n",
      "1\n"
     ]
    }
   ],
   "source": [
    "def gcd(a, b):\n",
    "    while b != 0:\n",
    "        a, b = b, a % b # a = b & b = a % b\n",
    "    return a\n",
    "\n",
    "print(gcd(12, 15)) # 3\n",
    "print(gcd(12, 17)) # 1"
   ]
  },
  {
   "cell_type": "markdown",
   "metadata": {},
   "source": [
    "----"
   ]
  }
 ],
 "metadata": {
  "kernelspec": {
   "display_name": "Python 3",
   "language": "python",
   "name": "python3"
  },
  "language_info": {
   "codemirror_mode": {
    "name": "ipython",
    "version": 3
   },
   "file_extension": ".py",
   "mimetype": "text/x-python",
   "name": "python",
   "nbconvert_exporter": "python",
   "pygments_lexer": "ipython3",
   "version": "3.13.2"
  }
 },
 "nbformat": 4,
 "nbformat_minor": 2
}
