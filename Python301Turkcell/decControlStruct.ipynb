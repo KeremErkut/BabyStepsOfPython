{
 "cells": [
  {
   "cell_type": "markdown",
   "metadata": {},
   "source": [
    "# Decision Control Structres"
   ]
  },
  {
   "cell_type": "markdown",
   "metadata": {},
   "source": [
    "\n",
    "## True-False Queries"
   ]
  },
  {
   "cell_type": "code",
   "execution_count": null,
   "metadata": {},
   "outputs": [
    {
     "data": {
      "text/plain": [
       "True"
      ]
     },
     "execution_count": 2,
     "metadata": {},
     "output_type": "execute_result"
    }
   ],
   "source": [
    "border = 5000\n",
    "\n",
    "# '==' is the equality operator\n",
    "border == 4000 ## False\n",
    "border == 5000 ## True"
   ]
  },
  {
   "cell_type": "markdown",
   "metadata": {},
   "source": [
    "## If Structure"
   ]
  },
  {
   "cell_type": "code",
   "execution_count": 3,
   "metadata": {},
   "outputs": [
    {
     "name": "stdout",
     "output_type": "stream",
     "text": [
      "Income is less than the border\n"
     ]
    }
   ],
   "source": [
    "border = 50000\n",
    "income = 40000\n",
    "\n",
    "if income < border:\n",
    "    print(\"Income is less than the border\")"
   ]
  },
  {
   "cell_type": "markdown",
   "metadata": {},
   "source": [
    "## Else Structure"
   ]
  },
  {
   "cell_type": "code",
   "execution_count": 4,
   "metadata": {},
   "outputs": [
    {
     "name": "stdout",
     "output_type": "stream",
     "text": [
      "Income is less than the border\n"
     ]
    }
   ],
   "source": [
    "border = 50000\n",
    "income = 30000\n",
    "\n",
    "if income > border:\n",
    "    print(\"Income is more than the border\")\n",
    "else:\n",
    "    print(\"Income is less than the border\")"
   ]
  },
  {
   "cell_type": "markdown",
   "metadata": {},
   "source": [
    "## Elif Structure"
   ]
  },
  {
   "cell_type": "code",
   "execution_count": 5,
   "metadata": {},
   "outputs": [
    {
     "name": "stdout",
     "output_type": "stream",
     "text": [
      "Income is more than the border\n",
      "Income is less than the border\n",
      "Income is equal to the border\n"
     ]
    }
   ],
   "source": [
    "border = 50000\n",
    "income1 = 65000\n",
    "income2 = 45000\n",
    "income3 = 50000\n",
    "\n",
    "def check_income(income):\n",
    "    if income > border:\n",
    "        print(\"Income is more than the border\")\n",
    "    elif income < border:\n",
    "        print(\"Income is less than the border\")\n",
    "    else:\n",
    "        print(\"Income is equal to the border\")\n",
    "\n",
    "check_income(income1)\n",
    "check_income(income2)\n",
    "check_income(income3)"
   ]
  },
  {
   "cell_type": "markdown",
   "metadata": {},
   "source": [
    "## User İnteraction Program With if and input Statements"
   ]
  },
  {
   "cell_type": "code",
   "execution_count": null,
   "metadata": {},
   "outputs": [
    {
     "name": "stdout",
     "output_type": "stream",
     "text": [
      "The store deneme is not doing well.\n"
     ]
    }
   ],
   "source": [
    "border = 50000\n",
    "\n",
    "store_name = str(input(\"Enter the store name: \"))\n",
    "income = int(input(\"Enter the income: \"))\n",
    "\n",
    "def income_check(income):\n",
    "    if income > border:\n",
    "        print(f\"The store {store_name} is doing well.\")\n",
    "    elif income < border:\n",
    "        print(f\"The store {store_name} is not doing well.\")\n",
    "    else:\n",
    "        print(f\"The store {store_name} is doing okay.\")\n",
    "\n",
    "income_check(income)"
   ]
  }
 ],
 "metadata": {
  "kernelspec": {
   "display_name": "Python 3",
   "language": "python",
   "name": "python3"
  },
  "language_info": {
   "codemirror_mode": {
    "name": "ipython",
    "version": 3
   },
   "file_extension": ".py",
   "mimetype": "text/x-python",
   "name": "python",
   "nbconvert_exporter": "python",
   "pygments_lexer": "ipython3",
   "version": "3.13.2"
  }
 },
 "nbformat": 4,
 "nbformat_minor": 2
}
