{
 "cells": [
  {
   "cell_type": "markdown",
   "metadata": {},
   "source": [
    "# Loops"
   ]
  },
  {
   "cell_type": "markdown",
   "metadata": {},
   "source": [
    "## For Loop"
   ]
  },
  {
   "cell_type": "code",
   "execution_count": null,
   "metadata": {},
   "outputs": [
    {
     "name": "stdout",
     "output_type": "stream",
     "text": [
      "john\n",
      "jane\n",
      "doe\n",
      "joe\n"
     ]
    }
   ],
   "source": [
    "students = [\"john\", \"jane\", \"doe\", \"joe\"]\n",
    "\n",
    "for i in students:\n",
    "    print(i)"
   ]
  },
  {
   "cell_type": "markdown",
   "metadata": {},
   "source": [
    "## Using loops and functions together"
   ]
  },
  {
   "cell_type": "code",
   "execution_count": 4,
   "metadata": {},
   "outputs": [
    {
     "name": "stdout",
     "output_type": "stream",
     "text": [
      "1200.0\n",
      "2400.0\n",
      "3600.0\n",
      "4800.0\n"
     ]
    }
   ],
   "source": [
    "# make %20 rise to the salaries.\n",
    "salaries = [1000, 2000, 3000, 4000] \n",
    "\n",
    "def rise_salary(salaries):\n",
    "    for i in salaries:\n",
    "        print(i * 1.2)\n",
    "\n",
    "rise_salary(salaries)\n",
    "\n"
   ]
  },
  {
   "cell_type": "markdown",
   "metadata": {},
   "source": [
    "## Break & Continue"
   ]
  },
  {
   "cell_type": "code",
   "execution_count": 12,
   "metadata": {},
   "outputs": [
    {
     "name": "stdout",
     "output_type": "stream",
     "text": [
      "100\n",
      "100\n",
      "200\n",
      "300\n",
      "found 500\n",
      "--------------------------\n",
      "100\n",
      "100\n",
      "200\n",
      "300\n",
      "passed 500\n",
      "700\n"
     ]
    }
   ],
   "source": [
    "salaries = [500, 200, 100, 300, 700, 100]\n",
    "\n",
    "def find_salary(salaries):\n",
    "    salaries.sort()\n",
    "    for i in salaries:\n",
    "        if i == 500:\n",
    "            print(\"found 500\")\n",
    "            break\n",
    "        print(i)\n",
    "    \n",
    "    print(\"--------------------------\")\n",
    "\n",
    "    for i in salaries:\n",
    "            if i == 500:\n",
    "                print(\"passed 500\")\n",
    "                continue\n",
    "            print(i)\n",
    "\n",
    "find_salary(salaries)"
   ]
  },
  {
   "cell_type": "markdown",
   "metadata": {},
   "source": [
    "## While loop"
   ]
  },
  {
   "cell_type": "code",
   "execution_count": 18,
   "metadata": {},
   "outputs": [
    {
     "name": "stdout",
     "output_type": "stream",
     "text": [
      "1\n",
      "2\n",
      "3\n",
      "4\n"
     ]
    }
   ],
   "source": [
    "num = 1\n",
    "while num < 5:\n",
    "    print(num)\n",
    "    num += 1\n"
   ]
  }
 ],
 "metadata": {
  "kernelspec": {
   "display_name": "Python 3",
   "language": "python",
   "name": "python3"
  },
  "language_info": {
   "codemirror_mode": {
    "name": "ipython",
    "version": 3
   },
   "file_extension": ".py",
   "mimetype": "text/x-python",
   "name": "python",
   "nbconvert_exporter": "python",
   "pygments_lexer": "ipython3",
   "version": "3.13.2"
  }
 },
 "nbformat": 4,
 "nbformat_minor": 2
}
