{
 "cells": [
  {
   "cell_type": "markdown",
   "metadata": {},
   "source": [
    "# Functional Programming"
   ]
  },
  {
   "cell_type": "markdown",
   "metadata": {},
   "source": [
    "## Pure Functions"
   ]
  },
  {
   "cell_type": "code",
   "execution_count": null,
   "metadata": {},
   "outputs": [
    {
     "name": "stdout",
     "output_type": "stream",
     "text": [
      "11\n",
      "10\n",
      "15\n",
      "10\n"
     ]
    }
   ],
   "source": [
    "A = 5 \n",
    "\n",
    "def impure_sum(b):\n",
    "    return b + A\n",
    "\n",
    "def pure_sum(a, b):\n",
    "    return a + b\n",
    "\n",
    "print(impure_sum(6))\n",
    "print(pure_sum(4, 6))\n",
    "\n",
    "A = 9 # This will not affect the output of pure_sum\n",
    "\n",
    "print(impure_sum(6))\n",
    "print(pure_sum(4, 6))"
   ]
  },
  {
   "cell_type": "markdown",
   "metadata": {},
   "source": [
    "## Anonymous Functions"
   ]
  },
  {
   "cell_type": "code",
   "execution_count": null,
   "metadata": {},
   "outputs": [
    {
     "name": "stdout",
     "output_type": "stream",
     "text": [
      "10\n",
      "[('a', 1), ('c', 2), ('b', 3)]\n"
     ]
    }
   ],
   "source": [
    "new_sum = lambda a, b: a + b \n",
    "print(new_sum(4, 6))\n",
    "\n",
    "random_list = [(\"b\", 3), (\"a\", 1), (\"c\", 2)]\n",
    "print(sorted(random_list, key = lambda x: x[1])) # Sort by the second element of the tuple\n",
    "\n"
   ]
  },
  {
   "cell_type": "markdown",
   "metadata": {},
   "source": [
    "## Vector Operations"
   ]
  },
  {
   "cell_type": "code",
   "execution_count": null,
   "metadata": {},
   "outputs": [
    {
     "name": "stdout",
     "output_type": "stream",
     "text": [
      "[2, 6, 12, 20]\n",
      "[ 2  6 12 20]\n"
     ]
    }
   ],
   "source": [
    "#OOP\n",
    "a = [1, 2, 3, 4]\n",
    "b = [2, 3, 4, 5]\n",
    "\n",
    "ab = []\n",
    "\n",
    "for i in range(0, len(a)):\n",
    "    ab.append(a[i] * b[i])\n",
    "\n",
    "print(ab)\n",
    "\n",
    "#FP\n",
    "import numpy as np  # Import the numpy library\n",
    "a = np.array([1, 2, 3, 4]) \n",
    "b = np.array([2, 3, 4, 5])\n",
    "\n",
    "print(a * b) # The same as the for loop above\n"
   ]
  },
  {
   "cell_type": "markdown",
   "metadata": {},
   "source": [
    "## Map & Filter & Reduce"
   ]
  },
  {
   "cell_type": "code",
   "execution_count": null,
   "metadata": {},
   "outputs": [],
   "source": [
    "list = [1, 2, 3, 4, 5]\n",
    "\n",
    "# Map\n",
    "list(map(lambda x : x + 10, list)) # Add 10 to each element of the list\n",
    "\n",
    "# Filter\n",
    "list(filter(lambda x : x % 2 == 0, list)) # Filter out odd numbers\n",
    "\n",
    "# Reduce\n",
    "from functools import reduce # Import the reduce function\n",
    "reduce(lambda a, b : a + b, list) # Sum all elements of the list\n"
   ]
  }
 ],
 "metadata": {
  "kernelspec": {
   "display_name": "Python 3",
   "language": "python",
   "name": "python3"
  },
  "language_info": {
   "codemirror_mode": {
    "name": "ipython",
    "version": 3
   },
   "file_extension": ".py",
   "mimetype": "text/x-python",
   "name": "python",
   "nbconvert_exporter": "python",
   "pygments_lexer": "ipython3",
   "version": "3.13.2"
  }
 },
 "nbformat": 4,
 "nbformat_minor": 2
}
