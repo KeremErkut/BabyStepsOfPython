{
 "cells": [
  {
   "cell_type": "markdown",
   "metadata": {},
   "source": [
    "## Object Oriented Programming"
   ]
  },
  {
   "cell_type": "markdown",
   "metadata": {},
   "source": [
    "## What is Class ?"
   ]
  },
  {
   "cell_type": "markdown",
   "metadata": {},
   "source": [
    "* A class is a structure that contains methods and variables with similar properties and common purposes."
   ]
  },
  {
   "cell_type": "markdown",
   "metadata": {},
   "source": [
    "### Creating Class"
   ]
  },
  {
   "cell_type": "code",
   "execution_count": 5,
   "metadata": {},
   "outputs": [
    {
     "name": "stdout",
     "output_type": "stream",
     "text": [
      "This is a Data Science class\n"
     ]
    }
   ],
   "source": [
    "class DataScience():\n",
    "    print(\"This is a Data Science class\")"
   ]
  },
  {
   "cell_type": "markdown",
   "metadata": {},
   "source": [
    "### Class Attributes"
   ]
  },
  {
   "cell_type": "code",
   "execution_count": 2,
   "metadata": {},
   "outputs": [],
   "source": [
    "class DataScientist():\n",
    "    department = ''\n",
    "    sql = 'Yes'\n",
    "    experience = 0\n",
    "    langauges = []\n",
    "\n",
    "# Reaching the class attributes\n",
    "DataScientist.department\n",
    "DataScientist.sql\n",
    "\n",
    "# Changing the class attributes\n",
    "DataScientist.sql = 'No'\n"
   ]
  },
  {
   "cell_type": "markdown",
   "metadata": {},
   "source": [
    "### Class Instantiation"
   ]
  },
  {
   "cell_type": "code",
   "execution_count": null,
   "metadata": {},
   "outputs": [],
   "source": [
    "kerem = DataScientist()\n",
    "kerem.sql\n",
    "kerem.department = 'Data Science'\n",
    "kerem.experience = 3\n",
    "kerem.langauges = ['Python', 'R', 'SQL']\n",
    "\n",
    "john = DataScientist()\n",
    "john.sql\n",
    "john.department = 'Data Science'\n",
    "john.experience = 5\n",
    "john.langauges = ['Python', 'R', 'SQL', 'Java']\n"
   ]
  },
  {
   "cell_type": "markdown",
   "metadata": {},
   "source": [
    "### Example Attributes"
   ]
  },
  {
   "cell_type": "code",
   "execution_count": null,
   "metadata": {},
   "outputs": [
    {
     "name": "stdout",
     "output_type": "stream",
     "text": [
      "Department: Data Science\n",
      "Experience: 3\n",
      "Languages: ['Python']\n",
      "Department: Engineering\n",
      "Experience: 5\n",
      "Languages: ['R']\n"
     ]
    }
   ],
   "source": [
    "class DataScientist:\n",
    "    department = \"\"\n",
    "    sql = \"Yes\"\n",
    "    experience = 0\n",
    "    languages = [\"Java\"]\n",
    "\n",
    "\n",
    "    def __init__(self):\n",
    "        self.languages = []  \n",
    "        self.department = ''\n",
    "        self.experience = 0\n",
    "\n",
    "def printInfo(self):\n",
    "    print(\"Department:\", self.department)\n",
    "    print(\"Experience:\", self.experience)\n",
    "    print(\"Languages:\", self.languages)\n",
    "\n",
    "\n",
    "kerem = DataScientist()\n",
    "kerem.languages.append(\"Python\")\n",
    "kerem.department = \"Data Science\"\n",
    "kerem.experience = 3\n",
    "\n",
    "john = DataScientist() \n",
    "john.languages.append(\"R\")\n",
    "john.department = \"Engineering\"\n",
    "john.experience = 5\n",
    "\n",
    "printInfo(kerem)\n",
    "printInfo(kerem)\n",
    "\n",
    "\n",
    "\n"
   ]
  },
  {
   "cell_type": "markdown",
   "metadata": {},
   "source": [
    "### Example Methods"
   ]
  },
  {
   "cell_type": "code",
   "execution_count": 33,
   "metadata": {},
   "outputs": [],
   "source": [
    "class DataScientist():\n",
    "    \n",
    "    employees = []\n",
    "    \n",
    "    def __init__(self):\n",
    "        self.languages = []\n",
    "        self.department = ''\n",
    "    \n",
    "    def add_language(self, new_language):\n",
    "        self.languages.append(new_language)\n",
    "    \n",
    "    def set_department(self, new_department):\n",
    "        self.department = new_department\n",
    "\n",
    "kerem = DataScientist()\n",
    "kerem.add_language('Python')\n",
    "kerem.set_department('Data Science')\n",
    "\n",
    "\n",
    "\n",
    "\n",
    "    \n"
   ]
  },
  {
   "cell_type": "markdown",
   "metadata": {},
   "source": [
    "### Inheritance"
   ]
  },
  {
   "cell_type": "markdown",
   "metadata": {},
   "source": [
    "* In object-oriented programming, inheritance is when one class inherits the attributes and methods of another class."
   ]
  },
  {
   "cell_type": "code",
   "execution_count": 34,
   "metadata": {},
   "outputs": [],
   "source": [
    "class Employees():\n",
    "\n",
    "    def __init__(self):\n",
    "        self.FirstName = \"\"\n",
    "        self.LastName = \"\"\n",
    "        self.Email = \"\"\n",
    "\n",
    "class DataScience(Employees):\n",
    "    def __init__(self):\n",
    "        self.Programming = \"\"\n",
    "\n",
    "class Marketing(Employees):\n",
    "    def __init__(self):\n",
    "        self.StoryTelling = \"\"\n",
    "\n",
    "datasicentis1 = DataScience()\n",
    "datasicentis1.FirstName = \"Kerem\"\n",
    "datasicentis1.LastName = \"Çifltikçi\"\n",
    "datasicentis1.Email = \"kciftlikci@gmail.com\"\n",
    "datasicentis1.Programming = \"Yes\"\n",
    "\n",
    "marketing1 = Marketing()\n",
    "marketing1.FirstName = \"John\"\n",
    "marketing1.LastName = \"Doe\"\n",
    "marketing1.Email = \"johndoe@gmail.com\"\n",
    "marketing1.StoryTelling = \"Yes\" "
   ]
  }
 ],
 "metadata": {
  "kernelspec": {
   "display_name": "Python 3",
   "language": "python",
   "name": "python3"
  },
  "language_info": {
   "codemirror_mode": {
    "name": "ipython",
    "version": 3
   },
   "file_extension": ".py",
   "mimetype": "text/x-python",
   "name": "python",
   "nbconvert_exporter": "python",
   "pygments_lexer": "ipython3",
   "version": "3.13.2"
  }
 },
 "nbformat": 4,
 "nbformat_minor": 2
}
