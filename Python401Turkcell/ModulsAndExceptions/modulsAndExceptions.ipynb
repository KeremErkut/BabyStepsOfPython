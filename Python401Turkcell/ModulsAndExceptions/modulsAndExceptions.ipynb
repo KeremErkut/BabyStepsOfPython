{
 "cells": [
  {
   "cell_type": "markdown",
   "metadata": {},
   "source": [
    "# Moduls & Exceptions"
   ]
  },
  {
   "cell_type": "markdown",
   "metadata": {},
   "source": [
    "## Creating Moduls "
   ]
  },
  {
   "cell_type": "code",
   "execution_count": null,
   "metadata": {},
   "outputs": [
    {
     "name": "stdout",
     "output_type": "stream",
     "text": [
      "1100.0\n"
     ]
    }
   ],
   "source": [
    "import new_salary as ns  # import the module\n",
    "print(ns.newSalary(1000)) # call the function"
   ]
  },
  {
   "cell_type": "markdown",
   "metadata": {},
   "source": [
    "## Errors and Exceptions"
   ]
  },
  {
   "cell_type": "code",
   "execution_count": null,
   "metadata": {},
   "outputs": [],
   "source": [
    "a = 10 \n",
    "b = 0 \n",
    "print(a/b) # ZeroDivisionError: division by zero\n",
    "\n",
    "try: # try block\n",
    "    print(a/b)\n",
    "except ZeroDivisionError: # catch block\n",
    "    print(\"Division by zero is not allowed\")\n",
    "\n",
    "a = 10\n",
    "b = \"kerem\"\n",
    "print(a+b) # TypeError: unsupported operand type(s) for +: 'int' and 'str'\n",
    "\n",
    "try:\n",
    "    print(a+b)\n",
    "except TypeError:\n",
    "    print(\"Unsupported operation between int and str\")"
   ]
  }
 ],
 "metadata": {
  "kernelspec": {
   "display_name": "Python 3",
   "language": "python",
   "name": "python3"
  },
  "language_info": {
   "codemirror_mode": {
    "name": "ipython",
    "version": 3
   },
   "file_extension": ".py",
   "mimetype": "text/x-python",
   "name": "python",
   "nbconvert_exporter": "python",
   "pygments_lexer": "ipython3",
   "version": "3.13.2"
  }
 },
 "nbformat": 4,
 "nbformat_minor": 2
}
